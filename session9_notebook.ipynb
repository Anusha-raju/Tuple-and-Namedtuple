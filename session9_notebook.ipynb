{
 "cells": [
  {
   "cell_type": "markdown",
   "id": "365866f8",
   "metadata": {},
   "source": [
    "# Session9 - NamedTuples"
   ]
  },
  {
   "cell_type": "code",
   "execution_count": 1,
   "id": "34c3ec6d",
   "metadata": {},
   "outputs": [],
   "source": [
    "from time import perf_counter"
   ]
  },
  {
   "cell_type": "code",
   "execution_count": 2,
   "id": "1adba7de",
   "metadata": {},
   "outputs": [],
   "source": [
    "from session9 import generate_profile,evaluation,stock_market,create_stocks"
   ]
  },
  {
   "cell_type": "markdown",
   "id": "19852487",
   "metadata": {},
   "source": [
    "## Question 1 & 2"
   ]
  },
  {
   "cell_type": "code",
   "execution_count": 3,
   "id": "3bdc71b7",
   "metadata": {},
   "outputs": [],
   "source": [
    "dict_list,tuple_list = generate_profile(10) # manually viewing 10 profiles"
   ]
  },
  {
   "cell_type": "code",
   "execution_count": 4,
   "id": "6e31fda2",
   "metadata": {},
   "outputs": [
    {
     "data": {
      "text/plain": [
       "[{'job': 'Product/process development scientist',\n",
       "  'company': 'Pennington Ltd',\n",
       "  'ssn': '491-36-8496',\n",
       "  'residence': '886 Mcdaniel Motorway\\nErinhaven, WA 97697',\n",
       "  'current_location': (Decimal('-26.268850'), Decimal('-144.606541')),\n",
       "  'blood_group': 'O+',\n",
       "  'website': ['http://foster.biz/', 'https://lee.com/'],\n",
       "  'username': 'zlopez',\n",
       "  'name': 'Jonathan Cooley',\n",
       "  'sex': 'M',\n",
       "  'address': '888 Stewart Point\\nJerryview, NJ 26833',\n",
       "  'mail': 'msampson@gmail.com',\n",
       "  'birthdate': datetime.date(2006, 7, 16)},\n",
       " {'job': 'Wellsite geologist',\n",
       "  'company': 'Ferrell Group',\n",
       "  'ssn': '696-70-5626',\n",
       "  'residence': '3432 Fischer Rue Apt. 266\\nMatthewmouth, MO 08436',\n",
       "  'current_location': (Decimal('80.406062'), Decimal('-43.267562')),\n",
       "  'blood_group': 'AB+',\n",
       "  'website': ['http://www.payne-smith.com/',\n",
       "   'http://george.com/',\n",
       "   'http://www.holmes.com/',\n",
       "   'http://www.wilkerson.com/'],\n",
       "  'username': 'brandylewis',\n",
       "  'name': 'Sean Washington',\n",
       "  'sex': 'M',\n",
       "  'address': '31278 Julie Flat\\nNew Andrea, ID 59355',\n",
       "  'mail': 'robert05@gmail.com',\n",
       "  'birthdate': datetime.date(1977, 9, 11)},\n",
       " {'job': 'Legal executive',\n",
       "  'company': 'Hernandez-Graham',\n",
       "  'ssn': '694-64-7696',\n",
       "  'residence': '544 Moore Mountain\\nDouglasburgh, AL 48204',\n",
       "  'current_location': (Decimal('-57.1212285'), Decimal('-130.173977')),\n",
       "  'blood_group': 'B-',\n",
       "  'website': ['https://www.gomez-williams.com/', 'https://www.willis.net/'],\n",
       "  'username': 'jeanneking',\n",
       "  'name': 'Steven Moody',\n",
       "  'sex': 'M',\n",
       "  'address': '414 Jennifer Brooks Apt. 801\\nJohnsonshire, AL 08776',\n",
       "  'mail': 'riospatty@gmail.com',\n",
       "  'birthdate': datetime.date(2000, 10, 16)},\n",
       " {'job': 'Therapist, art',\n",
       "  'company': 'Edwards and Sons',\n",
       "  'ssn': '465-42-5896',\n",
       "  'residence': '019 Carlson Parkway\\nNew Scott, HI 03326',\n",
       "  'current_location': (Decimal('59.713079'), Decimal('-158.758873')),\n",
       "  'blood_group': 'O+',\n",
       "  'website': ['https://miller.com/'],\n",
       "  'username': 'michael94',\n",
       "  'name': 'Amber Morales',\n",
       "  'sex': 'F',\n",
       "  'address': '17127 Jenkins Cape Apt. 253\\nNew Wyattland, AK 19316',\n",
       "  'mail': 'amoore@gmail.com',\n",
       "  'birthdate': datetime.date(1995, 11, 6)},\n",
       " {'job': 'Equities trader',\n",
       "  'company': 'King and Sons',\n",
       "  'ssn': '504-12-7505',\n",
       "  'residence': '3492 Wagner Parkways Suite 569\\nWest Joel, CT 15103',\n",
       "  'current_location': (Decimal('-26.495481'), Decimal('-18.968745')),\n",
       "  'blood_group': 'A-',\n",
       "  'website': ['http://peters-steele.com/', 'https://www.deleon-spencer.info/'],\n",
       "  'username': 'lori19',\n",
       "  'name': 'David Lane',\n",
       "  'sex': 'M',\n",
       "  'address': '4685 Cassidy Springs Apt. 941\\nNorth Wandaborough, IN 50182',\n",
       "  'mail': 'ccox@hotmail.com',\n",
       "  'birthdate': datetime.date(1925, 2, 6)},\n",
       " {'job': 'Water quality scientist',\n",
       "  'company': 'Martin-Burke',\n",
       "  'ssn': '239-36-9071',\n",
       "  'residence': '573 Adams Turnpike Suite 278\\nTimothyville, UT 32415',\n",
       "  'current_location': (Decimal('11.792172'), Decimal('-89.783571')),\n",
       "  'blood_group': 'A-',\n",
       "  'website': ['http://www.myers-howard.net/',\n",
       "   'http://anderson-johnson.com/',\n",
       "   'https://taylor-wilson.info/'],\n",
       "  'username': 'lydia53',\n",
       "  'name': 'Megan Thompson',\n",
       "  'sex': 'F',\n",
       "  'address': '24507 Nelson Drive Apt. 137\\nCourtneyborough, AK 83068',\n",
       "  'mail': 'zadkins@hotmail.com',\n",
       "  'birthdate': datetime.date(1959, 7, 13)},\n",
       " {'job': 'Electronics engineer',\n",
       "  'company': 'Atkinson and Sons',\n",
       "  'ssn': '262-34-1360',\n",
       "  'residence': '752 Singh Motorway Apt. 165\\nWilsonton, MI 02997',\n",
       "  'current_location': (Decimal('-74.651585'), Decimal('101.109375')),\n",
       "  'blood_group': 'AB+',\n",
       "  'website': ['https://davis.com/',\n",
       "   'http://www.johnson-kim.com/',\n",
       "   'https://www.wilson.com/'],\n",
       "  'username': 'brooksanthony',\n",
       "  'name': 'Christopher Jones',\n",
       "  'sex': 'M',\n",
       "  'address': '1744 Webb Pine\\nBurtonton, MS 36937',\n",
       "  'mail': 'cory82@yahoo.com',\n",
       "  'birthdate': datetime.date(1943, 4, 14)},\n",
       " {'job': 'Development worker, international aid',\n",
       "  'company': 'Espinoza, Green and Bullock',\n",
       "  'ssn': '835-15-2432',\n",
       "  'residence': '208 Dawn Alley\\nLeetown, AR 15436',\n",
       "  'current_location': (Decimal('-11.5816885'), Decimal('97.417802')),\n",
       "  'blood_group': 'O-',\n",
       "  'website': ['http://roy-olson.com/',\n",
       "   'https://www.stewart.biz/',\n",
       "   'https://www.washington.biz/',\n",
       "   'https://www.rodgers-martinez.biz/'],\n",
       "  'username': 'nicolemontgomery',\n",
       "  'name': 'Miguel Gonzalez',\n",
       "  'sex': 'M',\n",
       "  'address': '74515 Monica Fall Suite 838\\nNew Reneeborough, WV 50862',\n",
       "  'mail': 'nicholasfrederick@hotmail.com',\n",
       "  'birthdate': datetime.date(1973, 6, 18)},\n",
       " {'job': 'Homeopath',\n",
       "  'company': 'Holt, Vang and Nelson',\n",
       "  'ssn': '593-39-3787',\n",
       "  'residence': '320 Mccullough Key\\nSouth Daniellemouth, KY 19302',\n",
       "  'current_location': (Decimal('-28.0165155'), Decimal('20.060687')),\n",
       "  'blood_group': 'O+',\n",
       "  'website': ['http://www.castillo-guerra.com/', 'http://carroll-vang.com/'],\n",
       "  'username': 'robertomoore',\n",
       "  'name': 'Nicholas Reed',\n",
       "  'sex': 'M',\n",
       "  'address': '18073 Lane Cape Apt. 100\\nDanielville, GA 12859',\n",
       "  'mail': 'charlesdiaz@gmail.com',\n",
       "  'birthdate': datetime.date(1982, 5, 24)},\n",
       " {'job': 'IT trainer',\n",
       "  'company': 'Anderson and Sons',\n",
       "  'ssn': '055-78-3395',\n",
       "  'residence': '9396 Bright Burgs Suite 717\\nBellville, MN 53539',\n",
       "  'current_location': (Decimal('35.4624805'), Decimal('-155.459894')),\n",
       "  'blood_group': 'AB+',\n",
       "  'website': ['https://henson.com/', 'https://www.fischer.info/'],\n",
       "  'username': 'dorseyjennifer',\n",
       "  'name': 'Tabitha Mullins',\n",
       "  'sex': 'F',\n",
       "  'address': '785 Tina Ports Suite 262\\nNorth Leah, NV 60225',\n",
       "  'mail': 'dreed@gmail.com',\n",
       "  'birthdate': datetime.date(1946, 12, 15)}]"
      ]
     },
     "execution_count": 4,
     "metadata": {},
     "output_type": "execute_result"
    }
   ],
   "source": [
    "dict_list"
   ]
  },
  {
   "cell_type": "code",
   "execution_count": 5,
   "id": "bf5038ed",
   "metadata": {},
   "outputs": [
    {
     "name": "stdout",
     "output_type": "stream",
     "text": [
      "(0, profile_(job='Product/process development scientist', company='Pennington Ltd', ssn='491-36-8496', residence='886 Mcdaniel Motorway\\nErinhaven, WA 97697', current_location=(Decimal('-26.268850'), Decimal('-144.606541')), blood_group='O+', website=['http://foster.biz/', 'https://lee.com/'], username='zlopez', name='Jonathan Cooley', sex='M', address='888 Stewart Point\\nJerryview, NJ 26833', mail='msampson@gmail.com', birthdate=datetime.date(2006, 7, 16)))\n",
      "\n",
      "----------------\n",
      "\n",
      "(1, profile_(job='Wellsite geologist', company='Ferrell Group', ssn='696-70-5626', residence='3432 Fischer Rue Apt. 266\\nMatthewmouth, MO 08436', current_location=(Decimal('80.406062'), Decimal('-43.267562')), blood_group='AB+', website=['http://www.payne-smith.com/', 'http://george.com/', 'http://www.holmes.com/', 'http://www.wilkerson.com/'], username='brandylewis', name='Sean Washington', sex='M', address='31278 Julie Flat\\nNew Andrea, ID 59355', mail='robert05@gmail.com', birthdate=datetime.date(1977, 9, 11)))\n",
      "\n",
      "----------------\n",
      "\n",
      "(2, profile_(job='Legal executive', company='Hernandez-Graham', ssn='694-64-7696', residence='544 Moore Mountain\\nDouglasburgh, AL 48204', current_location=(Decimal('-57.1212285'), Decimal('-130.173977')), blood_group='B-', website=['https://www.gomez-williams.com/', 'https://www.willis.net/'], username='jeanneking', name='Steven Moody', sex='M', address='414 Jennifer Brooks Apt. 801\\nJohnsonshire, AL 08776', mail='riospatty@gmail.com', birthdate=datetime.date(2000, 10, 16)))\n",
      "\n",
      "----------------\n",
      "\n",
      "(3, profile_(job='Therapist, art', company='Edwards and Sons', ssn='465-42-5896', residence='019 Carlson Parkway\\nNew Scott, HI 03326', current_location=(Decimal('59.713079'), Decimal('-158.758873')), blood_group='O+', website=['https://miller.com/'], username='michael94', name='Amber Morales', sex='F', address='17127 Jenkins Cape Apt. 253\\nNew Wyattland, AK 19316', mail='amoore@gmail.com', birthdate=datetime.date(1995, 11, 6)))\n",
      "\n",
      "----------------\n",
      "\n",
      "(4, profile_(job='Equities trader', company='King and Sons', ssn='504-12-7505', residence='3492 Wagner Parkways Suite 569\\nWest Joel, CT 15103', current_location=(Decimal('-26.495481'), Decimal('-18.968745')), blood_group='A-', website=['http://peters-steele.com/', 'https://www.deleon-spencer.info/'], username='lori19', name='David Lane', sex='M', address='4685 Cassidy Springs Apt. 941\\nNorth Wandaborough, IN 50182', mail='ccox@hotmail.com', birthdate=datetime.date(1925, 2, 6)))\n",
      "\n",
      "----------------\n",
      "\n",
      "(5, profile_(job='Water quality scientist', company='Martin-Burke', ssn='239-36-9071', residence='573 Adams Turnpike Suite 278\\nTimothyville, UT 32415', current_location=(Decimal('11.792172'), Decimal('-89.783571')), blood_group='A-', website=['http://www.myers-howard.net/', 'http://anderson-johnson.com/', 'https://taylor-wilson.info/'], username='lydia53', name='Megan Thompson', sex='F', address='24507 Nelson Drive Apt. 137\\nCourtneyborough, AK 83068', mail='zadkins@hotmail.com', birthdate=datetime.date(1959, 7, 13)))\n",
      "\n",
      "----------------\n",
      "\n",
      "(6, profile_(job='Electronics engineer', company='Atkinson and Sons', ssn='262-34-1360', residence='752 Singh Motorway Apt. 165\\nWilsonton, MI 02997', current_location=(Decimal('-74.651585'), Decimal('101.109375')), blood_group='AB+', website=['https://davis.com/', 'http://www.johnson-kim.com/', 'https://www.wilson.com/'], username='brooksanthony', name='Christopher Jones', sex='M', address='1744 Webb Pine\\nBurtonton, MS 36937', mail='cory82@yahoo.com', birthdate=datetime.date(1943, 4, 14)))\n",
      "\n",
      "----------------\n",
      "\n",
      "(7, profile_(job='Development worker, international aid', company='Espinoza, Green and Bullock', ssn='835-15-2432', residence='208 Dawn Alley\\nLeetown, AR 15436', current_location=(Decimal('-11.5816885'), Decimal('97.417802')), blood_group='O-', website=['http://roy-olson.com/', 'https://www.stewart.biz/', 'https://www.washington.biz/', 'https://www.rodgers-martinez.biz/'], username='nicolemontgomery', name='Miguel Gonzalez', sex='M', address='74515 Monica Fall Suite 838\\nNew Reneeborough, WV 50862', mail='nicholasfrederick@hotmail.com', birthdate=datetime.date(1973, 6, 18)))\n",
      "\n",
      "----------------\n",
      "\n",
      "(8, profile_(job='Homeopath', company='Holt, Vang and Nelson', ssn='593-39-3787', residence='320 Mccullough Key\\nSouth Daniellemouth, KY 19302', current_location=(Decimal('-28.0165155'), Decimal('20.060687')), blood_group='O+', website=['http://www.castillo-guerra.com/', 'http://carroll-vang.com/'], username='robertomoore', name='Nicholas Reed', sex='M', address='18073 Lane Cape Apt. 100\\nDanielville, GA 12859', mail='charlesdiaz@gmail.com', birthdate=datetime.date(1982, 5, 24)))\n",
      "\n",
      "----------------\n",
      "\n",
      "(9, profile_(job='IT trainer', company='Anderson and Sons', ssn='055-78-3395', residence='9396 Bright Burgs Suite 717\\nBellville, MN 53539', current_location=(Decimal('35.4624805'), Decimal('-155.459894')), blood_group='AB+', website=['https://henson.com/', 'https://www.fischer.info/'], username='dorseyjennifer', name='Tabitha Mullins', sex='F', address='785 Tina Ports Suite 262\\nNorth Leah, NV 60225', mail='dreed@gmail.com', birthdate=datetime.date(1946, 12, 15)))\n",
      "\n",
      "----------------\n",
      "\n"
     ]
    }
   ],
   "source": [
    "for i in enumerate(tuple_list):\n",
    "    print(i)\n",
    "    print(\"\\n----------------\\n\")"
   ]
  },
  {
   "cell_type": "code",
   "execution_count": 6,
   "id": "a953d02a",
   "metadata": {},
   "outputs": [
    {
     "name": "stdout",
     "output_type": "stream",
     "text": [
      "Help on function generate_profile in module session9:\n",
      "\n",
      "generate_profile(number: int = 10000) -> tuple\n",
      "    This function creates profiles using the fake method and stores as a list of namedtuple and list of dictionaries\n",
      "\n"
     ]
    }
   ],
   "source": [
    "help(generate_profile)"
   ]
  },
  {
   "cell_type": "code",
   "execution_count": 7,
   "id": "01d4f3be",
   "metadata": {},
   "outputs": [
    {
     "data": {
      "text/plain": [
       "('job',\n",
       " 'company',\n",
       " 'ssn',\n",
       " 'residence',\n",
       " 'current_location',\n",
       " 'blood_group',\n",
       " 'website',\n",
       " 'username',\n",
       " 'name',\n",
       " 'sex',\n",
       " 'address',\n",
       " 'mail',\n",
       " 'birthdate')"
      ]
     },
     "execution_count": 7,
     "metadata": {},
     "output_type": "execute_result"
    }
   ],
   "source": [
    "tuple_list[0]._fields"
   ]
  },
  {
   "cell_type": "code",
   "execution_count": 8,
   "id": "95f286d6",
   "metadata": {},
   "outputs": [
    {
     "data": {
      "text/plain": [
       "(96, 49, 'O-', (Decimal('-3.6761555'), Decimal('-52.2431299')))"
      ]
     },
     "execution_count": 8,
     "metadata": {},
     "output_type": "execute_result"
    }
   ],
   "source": [
    "evaluation(dict_list)"
   ]
  },
  {
   "cell_type": "code",
   "execution_count": 9,
   "id": "985ec04c",
   "metadata": {},
   "outputs": [
    {
     "data": {
      "text/plain": [
       "(96, 49, 'O-', (Decimal('-3.6761555'), Decimal('-52.2431299')))"
      ]
     },
     "execution_count": 9,
     "metadata": {},
     "output_type": "execute_result"
    }
   ],
   "source": [
    "evaluation(tuple_list)"
   ]
  },
  {
   "cell_type": "code",
   "execution_count": 10,
   "id": "bf9c0582",
   "metadata": {},
   "outputs": [
    {
     "name": "stdout",
     "output_type": "stream",
     "text": [
      "Help on function evaluation in module session9:\n",
      "\n",
      "evaluation(profile_list: 'list') -> tuple\n",
      "    this is a function used to calculate the average age, oldest person\n",
      "    largest blood type, mean of current location\n",
      "    INPUT : profile_list: list: a list which contains the profiles in either a namedtuple or dictionary\n",
      "    OUTPUT : tuple : oldest person age, average age, largest blood type, mean of current location\n",
      "\n"
     ]
    }
   ],
   "source": [
    "help(evaluation)"
   ]
  },
  {
   "cell_type": "markdown",
   "id": "28a329a5",
   "metadata": {},
   "source": [
    "## Proof that namedtuples are faster"
   ]
  },
  {
   "cell_type": "code",
   "execution_count": 11,
   "id": "915981fe",
   "metadata": {},
   "outputs": [],
   "source": [
    "dict_time=[]\n",
    "tuple_time=[]\n",
    "\n",
    "\n",
    "for i in range(5):\n",
    "    profile_dict,profile_tuple = generate_profile(10000)\n",
    "    \n",
    "    start=perf_counter()\n",
    "    evaluation(profile_dict)\n",
    "    end=perf_counter()\n",
    "    dict_time.append(end-start)\n",
    "\n",
    "\n",
    "    start1=perf_counter()\n",
    "    evaluation(profile_tuple)\n",
    "    end1=perf_counter()\n",
    "    tuple_time.append(end1-start1)\n",
    "    \n",
    "    \n",
    "dict_time_avg = sum(dict_time)/len(dict_time)\n",
    "tuple_time_avg = sum(tuple_time)/len(tuple_time)\n"
   ]
  },
  {
   "cell_type": "code",
   "execution_count": 12,
   "id": "7ddbb310",
   "metadata": {},
   "outputs": [
    {
     "data": {
      "text/plain": [
       "True"
      ]
     },
     "execution_count": 12,
     "metadata": {},
     "output_type": "execute_result"
    }
   ],
   "source": [
    "dict_time>tuple_time"
   ]
  },
  {
   "cell_type": "markdown",
   "id": "c6aabb23",
   "metadata": {},
   "source": [
    "## Question3 "
   ]
  },
  {
   "cell_type": "code",
   "execution_count": 13,
   "id": "1cd83ff0",
   "metadata": {},
   "outputs": [
    {
     "name": "stdout",
     "output_type": "stream",
     "text": [
      "stock(name='Richards, Chavez and Hardy', symbol='RIC', open=189.7341, close=13.5004, high=193.6575, weight=30.2259)\n",
      "\n",
      "--------\n",
      "\n",
      "stock(name='Luna, Ellis and Jones', symbol='LUN', open=14330.4676, close=4490.3044, high=15072.9373, weight=36.7776)\n",
      "\n",
      "--------\n",
      "\n",
      "stock(name='Morrison, Mcclain and Welch', symbol='MOR', open=2340.4339, close=1059.3737, high=3288.5185, weight=29.3956)\n",
      "\n",
      "--------\n",
      "\n",
      "stock(name='Moore-Norman', symbol='MOO', open=3055.2678, close=235.3415, high=3152.7033, weight=62.5815)\n",
      "\n",
      "--------\n",
      "\n",
      "stock(name='Guerra, Patterson and Cooper', symbol='GUE', open=13272.5596, close=2122.1333, high=14055.2567, weight=38.5078)\n",
      "\n",
      "--------\n",
      "\n",
      "stock(name='Conner, Gonzalez and Osborne', symbol='CON', open=76.5937, close=38.7946, high=87.9453, weight=70.1576)\n",
      "\n",
      "--------\n",
      "\n",
      "stock(name='Wheeler and Sons', symbol='WHE', open=13221.6201, close=8601.9212, high=14943.253, weight=19.9719)\n",
      "\n",
      "--------\n",
      "\n",
      "stock(name='Manning, Deleon and Harris', symbol='MAN', open=7096.8815, close=2691.5679, high=7517.1007, weight=17.1304)\n",
      "\n",
      "--------\n",
      "\n",
      "stock(name='Brown LLC', symbol='BRO', open=6030.091, close=4119.335, high=9745.3041, weight=56.1818)\n",
      "\n",
      "--------\n",
      "\n",
      "stock(name='Clark, Buck and Peters', symbol='CLA', open=5437.2658, close=2664.5063, high=6928.2296, weight=19.3163)\n",
      "\n",
      "--------\n",
      "\n"
     ]
    }
   ],
   "source": [
    "stocks_=create_stocks(10)\n",
    "\n",
    "for i in stocks_:\n",
    "    print(i)\n",
    "    print(\"\\n--------\\n\")"
   ]
  },
  {
   "cell_type": "code",
   "execution_count": 14,
   "id": "cb19bc5d",
   "metadata": {},
   "outputs": [
    {
     "data": {
      "text/plain": [
       "('name', 'symbol', 'open', 'close', 'high', 'weight')"
      ]
     },
     "execution_count": 14,
     "metadata": {},
     "output_type": "execute_result"
    }
   ],
   "source": [
    "stocks_[0]._fields"
   ]
  },
  {
   "cell_type": "code",
   "execution_count": 15,
   "id": "d4287bd4",
   "metadata": {},
   "outputs": [
    {
     "name": "stdout",
     "output_type": "stream",
     "text": [
      "Help on function create_stocks in module session9:\n",
      "\n",
      "create_stocks(number: int = 100) -> 'list'\n",
      "    This function creates the stocks of {number} companies\n",
      "\n"
     ]
    }
   ],
   "source": [
    "help(create_stocks)"
   ]
  },
  {
   "cell_type": "code",
   "execution_count": 16,
   "id": "cd64786b",
   "metadata": {},
   "outputs": [],
   "source": [
    "companies  = create_stocks()"
   ]
  },
  {
   "cell_type": "code",
   "execution_count": 17,
   "id": "11d30f75",
   "metadata": {},
   "outputs": [
    {
     "data": {
      "text/plain": [
       "(67079515.36424586, 32030783.409609124, 3195113.68203336)"
      ]
     },
     "execution_count": 17,
     "metadata": {},
     "output_type": "execute_result"
    }
   ],
   "source": [
    "stock_market(companies)"
   ]
  },
  {
   "cell_type": "code",
   "execution_count": 18,
   "id": "7527c291",
   "metadata": {},
   "outputs": [
    {
     "name": "stdout",
     "output_type": "stream",
     "text": [
      "Help on function stock_market in module session9:\n",
      "\n",
      "stock_market(companies: 'list') -> tuple\n",
      "    This is a function which calculates the value the stock market started at,the highest value during the day, and end value.\n",
      "    \n",
      "    Output: tuple: value the stock market started at,the highest value during the day, and end value.\n",
      "\n"
     ]
    }
   ],
   "source": [
    "help(stock_market)"
   ]
  },
  {
   "cell_type": "code",
   "execution_count": null,
   "id": "ded4d0a1",
   "metadata": {},
   "outputs": [],
   "source": []
  }
 ],
 "metadata": {
  "kernelspec": {
   "display_name": "Python 3",
   "language": "python",
   "name": "python3"
  },
  "language_info": {
   "codemirror_mode": {
    "name": "ipython",
    "version": 3
   },
   "file_extension": ".py",
   "mimetype": "text/x-python",
   "name": "python",
   "nbconvert_exporter": "python",
   "pygments_lexer": "ipython3",
   "version": "3.8.8"
  }
 },
 "nbformat": 4,
 "nbformat_minor": 5
}
